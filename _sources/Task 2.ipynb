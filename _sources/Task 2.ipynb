{
 "cells": [
  {
   "cell_type": "markdown",
   "id": "d7aa448f",
   "metadata": {},
   "source": [
    "# Solving the mean-field α-Ω dynamo equations in the kinematic regime."
   ]
  },
  {
   "cell_type": "markdown",
   "id": "4249c388",
   "metadata": {},
   "source": [
    "## Solving for $ B_r $ and $ B_\\phi $"
   ]
  },
  {
   "cell_type": "code",
   "execution_count": 1,
   "id": "5118de1c",
   "metadata": {},
   "outputs": [],
   "source": [
    "import math\n",
    "import matplotlib.pyplot as plt\n",
    "import matplotlib.animation as anim\n",
    "from scipy.special import iv,kve,kv #provides module to compute modified bessel function of 1st kind\n",
    "import numpy as np"
   ]
  },
  {
   "cell_type": "code",
   "execution_count": 2,
   "id": "a9500f83",
   "metadata": {},
   "outputs": [],
   "source": [
    "#constants\n",
    "eta_t = 0.5 # η_T estimated as η_t because η is microscopic\n",
    "h=1 #typical disk scale in Mpc\n",
    "t_0 = (h_0**2)/eta_t\n",
    "Omega = 1/t_0 #Omega has units of 1/t0\n",
    "Alpha = h/t_0 #Alpha has units of h0/t0"
   ]
  },
  {
   "cell_type": "code",
   "execution_count": 3,
   "id": "1a2c6605",
   "metadata": {},
   "outputs": [],
   "source": [
    "#GRID PARAMETERS\n",
    "\n",
    "# Radial grid\n",
    "R_max = 15 # Maximum radial distance(in kpc)\n",
    "Nr = 200  # Increased number of grid points in radial direction\n",
    "dr = R_max / Nr\n",
    "\n",
    "# Time parameters\n",
    "T = 5 # Increased total time\n",
    "Nt = 500 #Total time steps\n",
    "dt = T / Nt"
   ]
  },
  {
   "cell_type": "code",
   "execution_count": null,
   "id": "1351a6de",
   "metadata": {},
   "outputs": [],
   "source": [
    "#Using numpy's gradient function which itself uses a central differencing method\n",
    "def FDM(R,Bi):\n",
    "    return np.gradient((1/R)*np.gradient(R*Bi, dr), dr) - ((np.pi)**2)*Bi/(4*h**2)"
   ]
  },
  {
   "cell_type": "code",
   "execution_count": 4,
   "id": "1cb6bf22",
   "metadata": {},
   "outputs": [],
   "source": [
    "def RK4(R,Bi):\n",
    "    k1 = dt * eta_t * FDM(R,Bi)\n",
    "    k2 = dt * eta_t * FDM(R + 0.5*k1,Bi + 0.5 * k1)\n",
    "    k3 = dt * eta_t * FDM(R + 0.5*k2,Bi + 0.5 * k2)\n",
    "    k4 = dt * eta_t * FDM(R + k3,Bi + k3)\n",
    "    return Bi + (k1 + 2 * k2 + 2 * k3 + k4) / 6"
   ]
  },
  {
   "cell_type": "code",
   "execution_count": 5,
   "id": "ea83ca08",
   "metadata": {},
   "outputs": [],
   "source": [
    "# Initializing radial component of Br using different seed fields\n",
    "R = np.linspace(0.5, R_max, Nr)\n",
    "Br = np.sin((2* np.pi * R)/R_max)\n",
    "#Br = np.exp(-R/R_max)\n",
    "#Br = np.tanh(R/R_max)\n",
    "#shape = np.shape(R)\n",
    "#Br = np.random.randint(1,5,*shape)\n",
    "\n",
    "#Initialising the B_phi field\n",
    "B_phi = np.cos((2 * np.pi * R)/R_max)\n",
    "#B_phi = np.exp(R/R_max)\n",
    "#B_phi = np.tanh(-R/R_max)\n",
    "#B_phi = np.random.randint(1,5,*shape)"
   ]
  },
  {
   "cell_type": "code",
   "execution_count": null,
   "id": "ede6dc7a",
   "metadata": {},
   "outputs": [],
   "source": []
  }
 ],
 "metadata": {
  "kernelspec": {
   "display_name": "Python 3 (ipykernel)",
   "language": "python",
   "name": "python3"
  },
  "language_info": {
   "codemirror_mode": {
    "name": "ipython",
    "version": 3
   },
   "file_extension": ".py",
   "mimetype": "text/x-python",
   "name": "python",
   "nbconvert_exporter": "python",
   "pygments_lexer": "ipython3",
   "version": "3.10.9"
  }
 },
 "nbformat": 4,
 "nbformat_minor": 5
}
